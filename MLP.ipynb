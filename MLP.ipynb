{
  "nbformat": 4,
  "nbformat_minor": 0,
  "metadata": {
    "colab": {
      "name": "MLP.ipynb",
      "provenance": [],
      "collapsed_sections": []
    },
    "kernelspec": {
      "name": "python3",
      "display_name": "Python 3"
    }
  },
  "cells": [
    {
      "cell_type": "code",
      "metadata": {
        "colab": {
          "base_uri": "https://localhost:8080/"
        },
        "id": "_gw3BRE9K8Gj",
        "outputId": "cb20dfcc-cd07-48e1-ec03-43668af20548"
      },
      "source": [
        "%matplotlib inline\r\n",
        "import matplotlib.pyplot as plt\r\n",
        "import numpy as np\r\n",
        "np.random.seed(0)\r\n",
        "import tensorflow as tf\r\n",
        "from tensorflow.keras.datasets import reuters\r\n",
        "from tensorflow.keras.models import Sequential\r\n",
        "from tensorflow.keras.layers import Dense, Activation, Dropout\r\n",
        "from tensorflow.keras.preprocessing.text import Tokenizer\r\n",
        "print('Tensorflow version :', tf.__version__)"
      ],
      "execution_count": 1,
      "outputs": [
        {
          "output_type": "stream",
          "text": [
            "Tensorflow version : 2.4.0\n"
          ],
          "name": "stdout"
        }
      ]
    },
    {
      "cell_type": "code",
      "metadata": {
        "colab": {
          "base_uri": "https://localhost:8080/"
        },
        "id": "ZHmk7Z1JMc49",
        "outputId": "06e8bba9-5f56-4f17-d885-46154a5f1015"
      },
      "source": [
        "(x_train, y_train), (x_test, y_test) = reuters.load_data(num_words=10000, test_split=0.2)"
      ],
      "execution_count": 2,
      "outputs": [
        {
          "output_type": "stream",
          "text": [
            "Downloading data from https://storage.googleapis.com/tensorflow/tf-keras-datasets/reuters.npz\n",
            "2113536/2110848 [==============================] - 0s 0us/step\n"
          ],
          "name": "stdout"
        },
        {
          "output_type": "stream",
          "text": [
            "/usr/local/lib/python3.6/dist-packages/tensorflow/python/keras/datasets/reuters.py:148: VisibleDeprecationWarning: Creating an ndarray from ragged nested sequences (which is a list-or-tuple of lists-or-tuples-or ndarrays with different lengths or shapes) is deprecated. If you meant to do this, you must specify 'dtype=object' when creating the ndarray\n",
            "  x_train, y_train = np.array(xs[:idx]), np.array(labels[:idx])\n",
            "/usr/local/lib/python3.6/dist-packages/tensorflow/python/keras/datasets/reuters.py:149: VisibleDeprecationWarning: Creating an ndarray from ragged nested sequences (which is a list-or-tuple of lists-or-tuples-or ndarrays with different lengths or shapes) is deprecated. If you meant to do this, you must specify 'dtype=object' when creating the ndarray\n",
            "  x_test, y_test = np.array(xs[idx:]), np.array(labels[idx:])\n"
          ],
          "name": "stderr"
        }
      ]
    },
    {
      "cell_type": "code",
      "metadata": {
        "colab": {
          "base_uri": "https://localhost:8080/"
        },
        "id": "DawF3GKAMc-h",
        "outputId": "222270eb-04fa-435c-beb3-fa502a8ae700"
      },
      "source": [
        "print(len(x_train),'training examples')\r\n",
        "print(len(x_test),'testing examples')\r\n",
        "\r\n"
      ],
      "execution_count": 14,
      "outputs": [
        {
          "output_type": "stream",
          "text": [
            "8982 training examples\n",
            "2246 testing examples\n"
          ],
          "name": "stdout"
        },
        {
          "output_type": "execute_result",
          "data": {
            "text/plain": [
              "array([[0., 0., 0., ..., 0., 0., 0.],\n",
              "       [0., 0., 0., ..., 0., 0., 0.],\n",
              "       [0., 1., 0., ..., 0., 0., 0.],\n",
              "       ...,\n",
              "       [0., 0., 0., ..., 0., 0., 0.],\n",
              "       [0., 0., 0., ..., 0., 0., 0.],\n",
              "       [0., 0., 0., ..., 0., 0., 0.]], dtype=float32)"
            ]
          },
          "metadata": {
            "tags": []
          },
          "execution_count": 14
        }
      ]
    },
    {
      "cell_type": "code",
      "metadata": {
        "colab": {
          "base_uri": "https://localhost:8080/"
        },
        "id": "-_8BX4moMdDp",
        "outputId": "4106c752-8642-413b-e60f-96f7772071a3"
      },
      "source": [
        "num_classes = np.max(y_train) + 1\r\n",
        "print(num_classes, 'classes')"
      ],
      "execution_count": 4,
      "outputs": [
        {
          "output_type": "stream",
          "text": [
            "46 classes\n"
          ],
          "name": "stdout"
        }
      ]
    },
    {
      "cell_type": "code",
      "metadata": {
        "colab": {
          "base_uri": "https://localhost:8080/"
        },
        "id": "OZLwsK3pMdIL",
        "outputId": "db2ba4ed-2108-45dd-a7c0-70ab77e42363"
      },
      "source": [
        "tokenizer = Tokenizer(num_words=10000)\r\n",
        "x_train = tokenizer.sequences_to_matrix(x_train, mode='binary')\r\n",
        "x_test = tokenizer.sequences_to_matrix(x_test, mode='binary')\r\n",
        "x_train.shape, x_test.shape"
      ],
      "execution_count": 5,
      "outputs": [
        {
          "output_type": "execute_result",
          "data": {
            "text/plain": [
              "((8982, 10000), (2246, 10000))"
            ]
          },
          "metadata": {
            "tags": []
          },
          "execution_count": 5
        }
      ]
    },
    {
      "cell_type": "code",
      "metadata": {
        "colab": {
          "base_uri": "https://localhost:8080/"
        },
        "id": "mLcVvCefMdNa",
        "outputId": "7b6d1d1e-a174-4182-9edf-ad23bc9aa1d3"
      },
      "source": [
        "y_train = tf.keras.utils.to_categorical(y_train, num_classes)\r\n",
        "y_test =  tf.keras.utils.to_categorical(y_test, num_classes)\r\n",
        "y_train.shape, y_test.shape"
      ],
      "execution_count": 6,
      "outputs": [
        {
          "output_type": "execute_result",
          "data": {
            "text/plain": [
              "((8982, 46), (2246, 46))"
            ]
          },
          "metadata": {
            "tags": []
          },
          "execution_count": 6
        }
      ]
    },
    {
      "cell_type": "code",
      "metadata": {
        "colab": {
          "base_uri": "https://localhost:8080/"
        },
        "id": "_aLruMFBMrke",
        "outputId": "6203a3b6-3b06-4a52-bc5a-7c20ddd91c00"
      },
      "source": [
        "model = Sequential([\r\n",
        "        Dense(512, input_shape=(10000,)),\r\n",
        "        Activation('relu'),\r\n",
        "        Dropout(0.5),\r\n",
        "        Dense(num_classes),\r\n",
        "        Activation('softmax')\r\n",
        "])\r\n",
        "\r\n",
        "model.summary()"
      ],
      "execution_count": 7,
      "outputs": [
        {
          "output_type": "stream",
          "text": [
            "Model: \"sequential\"\n",
            "_________________________________________________________________\n",
            "Layer (type)                 Output Shape              Param #   \n",
            "=================================================================\n",
            "dense (Dense)                (None, 512)               5120512   \n",
            "_________________________________________________________________\n",
            "activation (Activation)      (None, 512)               0         \n",
            "_________________________________________________________________\n",
            "dropout (Dropout)            (None, 512)               0         \n",
            "_________________________________________________________________\n",
            "dense_1 (Dense)              (None, 46)                23598     \n",
            "_________________________________________________________________\n",
            "activation_1 (Activation)    (None, 46)                0         \n",
            "=================================================================\n",
            "Total params: 5,144,110\n",
            "Trainable params: 5,144,110\n",
            "Non-trainable params: 0\n",
            "_________________________________________________________________\n"
          ],
          "name": "stdout"
        }
      ]
    },
    {
      "cell_type": "code",
      "metadata": {
        "id": "J7eUYnenMrqE"
      },
      "source": [
        "from tensorflow.keras.callbacks import EarlyStopping\r\n",
        "ES = EarlyStopping(monitor='val_loss', patience=3, verbose=1, mode='min')\r\n",
        "\r\n",
        "model.compile(optimizer='adam',loss='categorical_crossentropy', metrics=['accuracy'])"
      ],
      "execution_count": 8,
      "outputs": []
    },
    {
      "cell_type": "code",
      "metadata": {
        "colab": {
          "base_uri": "https://localhost:8080/"
        },
        "id": "_sK-l7Z8My-o",
        "outputId": "3ba8b260-3bf1-4ca1-d5d4-612bd4e07590"
      },
      "source": [
        "history = model.fit(x_train,y_train,epochs=100,batch_size=32,validation_split=0.1, callbacks=[ES])"
      ],
      "execution_count": 9,
      "outputs": [
        {
          "output_type": "stream",
          "text": [
            "Epoch 1/100\n",
            "253/253 [==============================] - 10s 36ms/step - loss: 1.7593 - accuracy: 0.6243 - val_loss: 0.9503 - val_accuracy: 0.7942\n",
            "Epoch 2/100\n",
            "253/253 [==============================] - 9s 34ms/step - loss: 0.4924 - accuracy: 0.8871 - val_loss: 0.8294 - val_accuracy: 0.8131\n",
            "Epoch 3/100\n",
            "253/253 [==============================] - 9s 34ms/step - loss: 0.2715 - accuracy: 0.9429 - val_loss: 0.9135 - val_accuracy: 0.8065\n",
            "Epoch 4/100\n",
            "253/253 [==============================] - 9s 34ms/step - loss: 0.2008 - accuracy: 0.9559 - val_loss: 0.9134 - val_accuracy: 0.8165\n",
            "Epoch 5/100\n",
            "253/253 [==============================] - 9s 34ms/step - loss: 0.1741 - accuracy: 0.9556 - val_loss: 0.9508 - val_accuracy: 0.8065\n",
            "Epoch 00005: early stopping\n"
          ],
          "name": "stdout"
        }
      ]
    },
    {
      "cell_type": "code",
      "metadata": {
        "colab": {
          "base_uri": "https://localhost:8080/"
        },
        "id": "dPJ291anMzKD",
        "outputId": "61f594c6-ce93-4880-95b1-a7a431ba81d2"
      },
      "source": [
        "model.evaluate(x_test,y_test,batch_size=32, verbose=1)"
      ],
      "execution_count": 10,
      "outputs": [
        {
          "output_type": "stream",
          "text": [
            "71/71 [==============================] - 1s 11ms/step - loss: 0.9672 - accuracy: 0.7979\n"
          ],
          "name": "stdout"
        },
        {
          "output_type": "execute_result",
          "data": {
            "text/plain": [
              "[0.9672175645828247, 0.7978628873825073]"
            ]
          },
          "metadata": {
            "tags": []
          },
          "execution_count": 10
        }
      ]
    },
    {
      "cell_type": "code",
      "metadata": {
        "colab": {
          "base_uri": "https://localhost:8080/",
          "height": 295
        },
        "id": "UT_rHyyjMzVL",
        "outputId": "c1ff9b64-6202-48a2-a8a8-71d183280019"
      },
      "source": [
        "plt.plot(history.history['loss'], label=\"Training Loss\")\r\n",
        "plt.plot(history.history['val_loss'], label=\"Validation Loss\")\r\n",
        "plt.title(\"Training and Validation Loss\")\r\n",
        "plt.xlabel('Epochs')\r\n",
        "plt.ylabel('Loss')\r\n",
        "plt.legend()\r\n",
        "plt.show()"
      ],
      "execution_count": 11,
      "outputs": [
        {
          "output_type": "display_data",
          "data": {
            "image/png": "[encoded data removed]",
            "text/plain": [
              "<Figure size 432x288 with 1 Axes>"
            ]
          },
          "metadata": {
            "tags": [],
            "needs_background": "light"
          }
        }
      ]
    },
    {
      "cell_type": "code",
      "metadata": {
        "colab": {
          "base_uri": "https://localhost:8080/",
          "height": 295
        },
        "id": "AkZssb5XM6Hr",
        "outputId": "92e2cb2b-9412-4d13-f15d-1f31f8d0a049"
      },
      "source": [
        "plt.plot(history.history['accuracy'], label=\"Training accuracy \")\r\n",
        "plt.plot(history.history['val_loss'], label=\"Validation accuracy\")\r\n",
        "plt.title(\"Training and Validation Accuracy\")\r\n",
        "plt.xlabel('Epochs')\r\n",
        "plt.ylabel('accuracy')\r\n",
        "plt.legend()\r\n",
        "plt.show()"
      ],
      "execution_count": 12,
      "outputs": [
        {
          "output_type": "display_data",
          "data": {
            "image/png": "[encoded data removed]",
            "text/plain": [
              "<Figure size 432x288 with 1 Axes>"
            ]
          },
          "metadata": {
            "tags": [],
            "needs_background": "light"
          }
        }
      ]
    }
  ]
}